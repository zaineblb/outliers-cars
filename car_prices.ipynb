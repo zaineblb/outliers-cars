{
 "cells": [
  {
   "cell_type": "markdown",
   "id": "a683a0f9-a2cc-4d80-894c-8dbe6e9a8fcc",
   "metadata": {},
   "source": [
    "# Car Price Regression :)"
   ]
  },
  {
   "cell_type": "markdown",
   "id": "d7fda7ec-7f05-49f0-808a-06db3e9da962",
   "metadata": {},
   "source": [
    "Let's define the scope of this project:\n",
    "- Bottom line is to most accurately build a model for prediction purposes\n",
    "- Model first (obviously), prediction second\n",
    "- Also, first we'll write it using built in Python libraries, then write from scratch. :)"
   ]
  },
  {
   "cell_type": "markdown",
   "id": "d79cbe33-9389-4963-8379-f96d3ac0fc60",
   "metadata": {},
   "source": [
    "We found this dataset from Kaggle [link](https://www.kaggle.com/goyalshalini93/car-price-prediction-linear-regression-rfe)"
   ]
  },
  {
   "cell_type": "markdown",
   "id": "7535fbfb-06ae-4407-b65f-2beebc6ba84d",
   "metadata": {},
   "source": [
    "# Load in the Data"
   ]
  },
  {
   "cell_type": "markdown",
   "id": "0c00274a-ca94-435d-be09-ba79ce44fb5c",
   "metadata": {},
   "source": [
    "In order to load our data into a natively Python supported dataframe mimicking R dataframes, we're gonna have to use a Python library called `pandas`"
   ]
  },
  {
   "cell_type": "code",
   "execution_count": 1,
   "id": "f96eb91a-47c4-47ae-bf25-d92b45a519a4",
   "metadata": {},
   "outputs": [
    {
     "ename": "ModuleNotFoundError",
     "evalue": "No module named 'pandas'",
     "output_type": "error",
     "traceback": [
      "\u001b[0;31m---------------------------------------------------------------------------\u001b[0m",
      "\u001b[0;31mModuleNotFoundError\u001b[0m                       Traceback (most recent call last)",
      "\u001b[0;32m/var/folders/tn/gz1gvltj16gg9l0vmf9pn8gm0000gn/T/ipykernel_4867/4080736814.py\u001b[0m in \u001b[0;36m<module>\u001b[0;34m\u001b[0m\n\u001b[0;32m----> 1\u001b[0;31m \u001b[0;32mimport\u001b[0m \u001b[0mpandas\u001b[0m \u001b[0;32mas\u001b[0m \u001b[0mpd\u001b[0m\u001b[0;34m\u001b[0m\u001b[0;34m\u001b[0m\u001b[0m\n\u001b[0m",
      "\u001b[0;31mModuleNotFoundError\u001b[0m: No module named 'pandas'"
     ]
    }
   ],
   "source": [
    "import pandas as pd"
   ]
  },
  {
   "cell_type": "code",
   "execution_count": 2,
   "id": "591748a6-8fc1-4aa8-a154-724133defb5e",
   "metadata": {},
   "outputs": [
    {
     "name": "stdout",
     "output_type": "stream",
     "text": [
      "zsh:1: command not found: conda\n"
     ]
    }
   ],
   "source": []
  },
  {
   "cell_type": "code",
   "execution_count": null,
   "id": "ee9c6fc2-76e2-4bc6-859c-327702f0029a",
   "metadata": {},
   "outputs": [],
   "source": []
  },
  {
   "cell_type": "code",
   "execution_count": null,
   "id": "c1f283d9-4f53-481e-8798-5c3abb543c9d",
   "metadata": {},
   "outputs": [],
   "source": []
  },
  {
   "cell_type": "code",
   "execution_count": null,
   "id": "1d5e6097-487e-4591-9477-bb5e3375fc33",
   "metadata": {},
   "outputs": [],
   "source": []
  },
  {
   "cell_type": "code",
   "execution_count": null,
   "id": "c7ccab9e-63ca-481d-9f93-91887962bb75",
   "metadata": {},
   "outputs": [],
   "source": []
  },
  {
   "cell_type": "code",
   "execution_count": null,
   "id": "7255b1f6-a0b9-4a0f-ad29-a10a6bfe07e8",
   "metadata": {},
   "outputs": [],
   "source": []
  },
  {
   "cell_type": "code",
   "execution_count": null,
   "id": "649e0145-3733-470b-b4e4-a8df1529698e",
   "metadata": {},
   "outputs": [],
   "source": []
  },
  {
   "cell_type": "code",
   "execution_count": null,
   "id": "79bf80a1-61e6-4728-8e98-623fe21c12f5",
   "metadata": {},
   "outputs": [],
   "source": []
  },
  {
   "cell_type": "code",
   "execution_count": null,
   "id": "f116750b-5473-4983-b27e-9c46b53d21f9",
   "metadata": {},
   "outputs": [],
   "source": []
  }
 ],
 "metadata": {
  "kernelspec": {
   "display_name": "Python 3 (ipykernel)",
   "language": "python",
   "name": "python3"
  },
  "language_info": {
   "codemirror_mode": {
    "name": "ipython",
    "version": 3
   },
   "file_extension": ".py",
   "mimetype": "text/x-python",
   "name": "python",
   "nbconvert_exporter": "python",
   "pygments_lexer": "ipython3",
   "version": "3.10.1"
  }
 },
 "nbformat": 4,
 "nbformat_minor": 5
}
