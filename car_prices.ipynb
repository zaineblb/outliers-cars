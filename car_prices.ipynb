{
 "cells": [
  {
   "cell_type": "markdown",
   "metadata": {},
   "source": [
    "# Car Price Regression :)"
   ]
  },
  {
   "cell_type": "markdown",
   "metadata": {},
   "source": [
    "Let's define the scope of this project:\n",
    "- Bottom line is to most accurately build a model for prediction purposes\n",
    "- Model first (obviously), prediction second\n",
    "- Also, first we'll write it using built in Python libraries, then write from scratch. :)"
   ]
  },
  {
   "cell_type": "markdown",
   "metadata": {},
   "source": [
    "We found this dataset from Kaggle [link](https://www.kaggle.com/goyalshalini93/car-price-prediction-linear-regression-rfe)"
   ]
  },
  {
   "cell_type": "markdown",
   "metadata": {},
   "source": [
    "# Load in the Data"
   ]
  },
  {
   "cell_type": "markdown",
   "metadata": {},
   "source": [
    "In order to load our data into a natively Python supported dataframe mimicking R dataframes, we're gonna have to use a Python library called `pandas`"
   ]
  },
  {
   "cell_type": "code",
   "execution_count": 1,
   "metadata": {},
   "outputs": [],
   "source": [
    "import pandas as pd"
   ]
  },
  {
   "cell_type": "code",
   "execution_count": 4,
   "metadata": {},
   "outputs": [],
   "source": [
    "df = pd.read_csv(\"./data/car_price.csv\")"
   ]
  },
  {
   "cell_type": "code",
   "execution_count": 11,
   "metadata": {},
   "outputs": [
    {
     "ename": "AttributeError",
     "evalue": "'DataFrame' object has no attribute 'names'",
     "output_type": "error",
     "traceback": [
      "\u001b[0;31m---------------------------------------------------------------------------\u001b[0m",
      "\u001b[0;31mAttributeError\u001b[0m                            Traceback (most recent call last)",
      "\u001b[0;32m<ipython-input-11-e6125ff39d4e>\u001b[0m in \u001b[0;36m<module>\u001b[0;34m\u001b[0m\n\u001b[1;32m      1\u001b[0m \u001b[0mdf\u001b[0m\u001b[0;34m.\u001b[0m\u001b[0mhead\u001b[0m\u001b[0;34m(\u001b[0m\u001b[0;34m)\u001b[0m\u001b[0;34m\u001b[0m\u001b[0;34m\u001b[0m\u001b[0m\n\u001b[1;32m      2\u001b[0m \u001b[0;31m#df.tail()\u001b[0m\u001b[0;34m\u001b[0m\u001b[0;34m\u001b[0m\u001b[0;34m\u001b[0m\u001b[0m\n\u001b[0;32m----> 3\u001b[0;31m \u001b[0mdf\u001b[0m\u001b[0;34m.\u001b[0m\u001b[0mnames\u001b[0m\u001b[0;34m(\u001b[0m\u001b[0;34m)\u001b[0m\u001b[0;34m\u001b[0m\u001b[0;34m\u001b[0m\u001b[0m\n\u001b[0m",
      "\u001b[0;32m~/opt/anaconda3/lib/python3.8/site-packages/pandas/core/generic.py\u001b[0m in \u001b[0;36m__getattr__\u001b[0;34m(self, name)\u001b[0m\n\u001b[1;32m   5137\u001b[0m             \u001b[0;32mif\u001b[0m \u001b[0mself\u001b[0m\u001b[0;34m.\u001b[0m\u001b[0m_info_axis\u001b[0m\u001b[0;34m.\u001b[0m\u001b[0m_can_hold_identifiers_and_holds_name\u001b[0m\u001b[0;34m(\u001b[0m\u001b[0mname\u001b[0m\u001b[0;34m)\u001b[0m\u001b[0;34m:\u001b[0m\u001b[0;34m\u001b[0m\u001b[0;34m\u001b[0m\u001b[0m\n\u001b[1;32m   5138\u001b[0m                 \u001b[0;32mreturn\u001b[0m \u001b[0mself\u001b[0m\u001b[0;34m[\u001b[0m\u001b[0mname\u001b[0m\u001b[0;34m]\u001b[0m\u001b[0;34m\u001b[0m\u001b[0;34m\u001b[0m\u001b[0m\n\u001b[0;32m-> 5139\u001b[0;31m             \u001b[0;32mreturn\u001b[0m \u001b[0mobject\u001b[0m\u001b[0;34m.\u001b[0m\u001b[0m__getattribute__\u001b[0m\u001b[0;34m(\u001b[0m\u001b[0mself\u001b[0m\u001b[0;34m,\u001b[0m \u001b[0mname\u001b[0m\u001b[0;34m)\u001b[0m\u001b[0;34m\u001b[0m\u001b[0;34m\u001b[0m\u001b[0m\n\u001b[0m\u001b[1;32m   5140\u001b[0m \u001b[0;34m\u001b[0m\u001b[0m\n\u001b[1;32m   5141\u001b[0m     \u001b[0;32mdef\u001b[0m \u001b[0m__setattr__\u001b[0m\u001b[0;34m(\u001b[0m\u001b[0mself\u001b[0m\u001b[0;34m,\u001b[0m \u001b[0mname\u001b[0m\u001b[0;34m:\u001b[0m \u001b[0mstr\u001b[0m\u001b[0;34m,\u001b[0m \u001b[0mvalue\u001b[0m\u001b[0;34m)\u001b[0m \u001b[0;34m->\u001b[0m \u001b[0;32mNone\u001b[0m\u001b[0;34m:\u001b[0m\u001b[0;34m\u001b[0m\u001b[0;34m\u001b[0m\u001b[0m\n",
      "\u001b[0;31mAttributeError\u001b[0m: 'DataFrame' object has no attribute 'names'"
     ]
    }
   ],
   "source": [
    "df.head()\n",
    "#df.tail()"
   ]
  },
  {
   "cell_type": "markdown",
   "metadata": {},
   "source": [
    "## Data Visualization"
   ]
  },
  {
   "cell_type": "code",
   "execution_count": 12,
   "metadata": {},
   "outputs": [
    {
     "name": "stderr",
     "output_type": "stream",
     "text": [
      "Matplotlib is building the font cache; this may take a moment.\n"
     ]
    }
   ],
   "source": [
    "import matplotlib.pyplot as plt"
   ]
  },
  {
   "cell_type": "code",
   "execution_count": 14,
   "metadata": {},
   "outputs": [
    {
     "data": {
      "image/png": "[encoded data removed]",
      "text/plain": [
       "<Figure size 432x288 with 1 Axes>"
      ]
     },
     "metadata": {
      "needs_background": "light"
     },
     "output_type": "display_data"
    }
   ],
   "source": [
    "plt.hist(df[\"price\"])\n",
    "plt.show()"
   ]
  },
  {
   "cell_type": "markdown",
   "metadata": {},
   "source": [
    "After visualizing our response variable price, we have found it to be right skewed. To meet the assumption of normality, we will log transform the response variable. To do this, we must import `numpy`"
   ]
  },
  {
   "cell_type": "code",
   "execution_count": 22,
   "metadata": {},
   "outputs": [],
   "source": [
    "import numpy as np\n",
    "from scipy import stats"
   ]
  },
  {
   "cell_type": "code",
   "execution_count": 31,
   "metadata": {},
   "outputs": [
    {
     "data": {
      "image/png": "[encoded data removed]",
      "text/plain": [
       "<Figure size 432x288 with 1 Axes>"
      ]
     },
     "metadata": {
      "needs_background": "light"
     },
     "output_type": "display_data"
    }
   ],
   "source": [
    "#plt.hist(np.log(df[\"price\"]))\n",
    "response = np.log(df[\"price\"])\n",
    "stats.probplot(response, plot=plt)\n",
    "plt.show()"
   ]
  },
  {
   "cell_type": "code",
   "execution_count": 41,
   "metadata": {},
   "outputs": [
    {
     "name": "stdout",
     "output_type": "stream",
     "text": [
      "(array([1.58809728, 1.5885782 , 1.5885782 , 1.58818084, 1.58870165,\n",
      "       1.58839694, 1.58873354, 1.58887252, 1.58931822, 1.5887515 ,\n",
      "       1.58856864, 1.58863482, 1.58907768, 1.58909004, 1.58936846,\n",
      "       1.58973506, 1.59014376, 1.58999534, 1.58472782, 1.58560648,\n",
      "       1.58578295, 1.58508524, 1.58565946, 1.5865021 , 1.58556301,\n",
      "       1.58585311, 1.58634117, 1.58675464, 1.58689363, 1.58799376,\n",
      "       1.58572384, 1.5859476 , 1.58494386, 1.5857548 , 1.58609845,\n",
      "       1.58618533, 1.58618533, 1.58647428, 1.58695704, 1.5868653 ,\n",
      "       1.58734604, 1.58798993, 1.58736064, 1.58590747, 1.58689197,\n",
      "       1.58689197, 1.58755444, 1.5898058 , 1.58994502, 1.58996238,\n",
      "       1.58476737, 1.5854724 , 1.58591325, 1.58585488, 1.58623613,\n",
      "       1.58752732, 1.58775122, 1.58812533, 1.58845676, 1.5868653 ,\n",
      "       1.58672954, 1.58743195, 1.58733132, 1.58748706, 1.58760519,\n",
      "       1.58880088, 1.58880822, 1.58943648, 1.58960224, 1.58959815,\n",
      "       1.58977561, 1.58989005, 1.58992554, 1.59013285, 1.5902592 ,\n",
      "       1.5885786 , 1.58493547, 1.58553629, 1.58583948, 1.58637921,\n",
      "       1.58724484, 1.58673114, 1.58792483, 1.5883368 , 1.58827427,\n",
      "       1.58602257, 1.58660316, 1.58702197, 1.58702197, 1.58502647,\n",
      "       1.58608239, 1.58582756, 1.58594418, 1.5862129 , 1.58618738,\n",
      "       1.58643048, 1.58628779, 1.58652075, 1.58662854, 1.58690397,\n",
      "       1.58711355, 1.58809803, 1.58825907, 1.58809803, 1.58867011,\n",
      "       1.58895457, 1.5888145 , 1.58776401, 1.58804061, 1.58788461,\n",
      "       1.58816467, 1.58844709, 1.58863155, 1.58860447, 1.58865425,\n",
      "       1.58859577, 1.58876232, 1.58878582, 1.58508524, 1.5865021 ,\n",
      "       1.58556301, 1.58585311, 1.58634117, 1.58689363, 1.58795296,\n",
      "       1.5891704 , 1.58981841, 1.58988354, 1.59000075, 1.58976614,\n",
      "       1.58702752, 1.58722493, 1.58775239, 1.5878254 , 1.5883641 ,\n",
      "       1.5884366 , 1.58878582, 1.58883943, 1.58469779, 1.58605756,\n",
      "       1.58633829, 1.58609685, 1.5864194 , 1.58724515, 1.58700594,\n",
      "       1.58760874, 1.58627004, 1.58731738, 1.58652693, 1.58771562,\n",
      "       1.58490077, 1.5856344 , 1.58572945, 1.58598314, 1.58647563,\n",
      "       1.58684   , 1.58599431, 1.58613496, 1.58647563, 1.58642541,\n",
      "       1.5864022 , 1.58667389, 1.58701467, 1.58654668, 1.58662391,\n",
      "       1.58702856, 1.58710991, 1.58671102, 1.58714315, 1.5872541 ,\n",
      "       1.58759347, 1.58768072, 1.58872857, 1.5869036 , 1.58746054,\n",
      "       1.58725379, 1.5875148 , 1.58760595, 1.58858606, 1.58850818,\n",
      "       1.58846342, 1.58847225, 1.5864194 , 1.58651011, 1.58651898,\n",
      "       1.58660571, 1.58672954, 1.58709558, 1.58725594, 1.58769187,\n",
      "       1.58725132, 1.58805908, 1.58816196, 1.58785198, 1.58798892,\n",
      "       1.58808211, 1.58850632, 1.58858024, 1.58881689, 1.58887578,\n",
      "       1.58862434, 1.58888605, 1.58912416, 1.58920821, 1.58922089]), -0.6280809555716815)\n"
     ]
    }
   ],
   "source": [
    "response = stats.boxcox(df[\"price\"])\n",
    "print(response)"
   ]
  },
  {
   "cell_type": "code",
   "execution_count": null,
   "metadata": {},
   "outputs": [],
   "source": []
  },
  {
   "cell_type": "code",
   "execution_count": null,
   "metadata": {},
   "outputs": [],
   "source": []
  }
 ],
 "metadata": {
  "kernelspec": {
   "display_name": "Python 3",
   "language": "python",
   "name": "python3"
  },
  "language_info": {
   "codemirror_mode": {
    "name": "ipython",
    "version": 3
   },
   "file_extension": ".py",
   "mimetype": "text/x-python",
   "name": "python",
   "nbconvert_exporter": "python",
   "pygments_lexer": "ipython3",
   "version": "3.8.5"
  }
 },
 "nbformat": 4,
 "nbformat_minor": 5
}
